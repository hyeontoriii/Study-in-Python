{
 "cells": [
  {
   "cell_type": "markdown",
   "metadata": {},
   "source": [
    "## 라이브러리 로드"
   ]
  },
  {
   "cell_type": "code",
   "execution_count": 1,
   "metadata": {},
   "outputs": [],
   "source": [
    "import pandas as pd\n",
    "import numpy as np"
   ]
  },
  {
   "cell_type": "markdown",
   "metadata": {},
   "source": [
    "## eval() 함수와 exec() 함수\n",
    "#### eval() 함수 : '수식' 연산\n",
    "- 기본적으로 문자열로 된 수식을 Input으로 받아 그 결과를 return 하는 함수\n",
    "\n",
    "#### exec() 함수 : '코드' 실행\n",
    "- 기본적으로 문자열로 된 코드를 input 받아 그 코드를 실행만 시키고, 아무것도 return 하지 않는 함수\n"
   ]
  },
  {
   "cell_type": "code",
   "execution_count": 2,
   "metadata": {},
   "outputs": [
    {
     "name": "stdout",
     "output_type": "stream",
     "text": [
      "var_1 : [0]\n",
      "var_2 : [0, 1]\n",
      "var_3 : [0, 1, 2]\n"
     ]
    }
   ],
   "source": [
    "for i in range(1,4):\n",
    "    exec(f\"var_{i} = list(range(i))\")\n",
    " \n",
    "for i in range(1,4):\n",
    "    print(f'var_{i} :',eval(f'var_{i}'))"
   ]
  },
  {
   "cell_type": "code",
   "execution_count": 10,
   "metadata": {},
   "outputs": [],
   "source": [
    "my_dict = {\"a\": [1, 3], \"b\": [1, 2], \"c\": [2, 4]}\n",
    "a = (pd.DataFrame(my_dict))\n",
    "\n",
    "for i in range(2):\n",
    "#     cmd = \"df\"+str(i)+\"= a\" \n",
    "#     exec(cmd)\n",
    "#     cmd = \"df\"+str(i)+\"= pd.read_csv('data\"+str(i)+\".csv')\"\n",
    "\n",
    "    exec(f\"df_{i+1} = a\")"
   ]
  },
  {
   "cell_type": "code",
   "execution_count": 175,
   "metadata": {
    "scrolled": true
   },
   "outputs": [
    {
     "name": "stdout",
     "output_type": "stream",
     "text": [
      "   a  b  c  CHAR001\n",
      "0  1  1  2        4\n",
      "1  3  2  4        9\n",
      "   a  b  c  CHAR001\n",
      "0  1  1  2        4\n",
      "1  3  2  4        9\n"
     ]
    }
   ],
   "source": [
    "print(df_1)\n",
    "print(df_2)"
   ]
  },
  {
   "cell_type": "code",
   "execution_count": 13,
   "metadata": {
    "scrolled": true
   },
   "outputs": [
    {
     "data": {
      "text/html": [
       "<div>\n",
       "<style scoped>\n",
       "    .dataframe tbody tr th:only-of-type {\n",
       "        vertical-align: middle;\n",
       "    }\n",
       "\n",
       "    .dataframe tbody tr th {\n",
       "        vertical-align: top;\n",
       "    }\n",
       "\n",
       "    .dataframe thead th {\n",
       "        text-align: right;\n",
       "    }\n",
       "</style>\n",
       "<table border=\"1\" class=\"dataframe\">\n",
       "  <thead>\n",
       "    <tr style=\"text-align: right;\">\n",
       "      <th></th>\n",
       "      <th>a</th>\n",
       "      <th>b</th>\n",
       "      <th>c</th>\n",
       "    </tr>\n",
       "  </thead>\n",
       "  <tbody>\n",
       "    <tr>\n",
       "      <th>0</th>\n",
       "      <td>1</td>\n",
       "      <td>1</td>\n",
       "      <td>2</td>\n",
       "    </tr>\n",
       "    <tr>\n",
       "      <th>1</th>\n",
       "      <td>3</td>\n",
       "      <td>2</td>\n",
       "      <td>4</td>\n",
       "    </tr>\n",
       "  </tbody>\n",
       "</table>\n",
       "</div>"
      ],
      "text/plain": [
       "   a  b  c\n",
       "0  1  1  2\n",
       "1  3  2  4"
      ]
     },
     "execution_count": 13,
     "metadata": {},
     "output_type": "execute_result"
    }
   ],
   "source": [
    "# 문자형변수 -> 수치형 변수\n",
    "df_1.astype(int) # int 또는 float 사용가능"
   ]
  },
  {
   "cell_type": "markdown",
   "metadata": {},
   "source": [
    "### feature 생성 함수\n",
    "- 1) 합계\n",
    "- 2) 평균\n",
    "- 3) 최소값 \n",
    "- 4) 최대값\n",
    "- 5) 표준편차\n",
    "- 6) 연속증가개월수\n",
    "- 7) 비율(백분율)"
   ]
  },
  {
   "cell_type": "code",
   "execution_count": 182,
   "metadata": {},
   "outputs": [],
   "source": [
    "woori = pd.DataFrame({\"a_10\": [0, 1, 3, 5], \"a_11\": [0, 2, 2, 4], \"a_12\": [0, 3, 4, 2]})"
   ]
  },
  {
   "cell_type": "code",
   "execution_count": 183,
   "metadata": {},
   "outputs": [],
   "source": [
    "# 합계\n",
    "def f_sum(df, component, char): # df : 데이터프레임, component : 사용항목, char : 파생변수명 \n",
    "  \n",
    "    c_list = [component + str(i+10) for i in range(0,3)] # x_list : 연산에 사용할 항목들 리스트로 저장( 변수명_10~변수명_12 )\n",
    "    df[char] = df[c_list].sum(axis=1).round() # 소수점 첫째자리 반올림"
   ]
  },
  {
   "cell_type": "code",
   "execution_count": 184,
   "metadata": {},
   "outputs": [],
   "source": [
    "# 평균\n",
    "def f_avg(df, component, char): # df : 데이터프레임, component : 사용항목, char : 파생변수명 \n",
    "  \n",
    "    c_list = [component + str(i+10) for i in range(0,3)] # x_list : 연산에 사용할 항목들 리스트로 저장( 변수명_10~변수명_12 )\n",
    "    df[char] = df[c_list].mean(axis=1).round(1) # 소수점 첫째자리 반올림"
   ]
  },
  {
   "cell_type": "code",
   "execution_count": 185,
   "metadata": {},
   "outputs": [],
   "source": [
    "# 최소값\n",
    "def f_min(df, component, char): # df : 데이터프레임, component : 사용항목, char : 파생변수명 \n",
    "  \n",
    "    c_list = [component + str(i+10) for i in range(0,3)] # x_list : 연산에 사용할 항목들 리스트로 저장( 변수명_10~변수명_12 )\n",
    "    df[char] = df[c_list].min(axis=1).round(1) # 소수점 첫째자리 반올림"
   ]
  },
  {
   "cell_type": "code",
   "execution_count": 186,
   "metadata": {},
   "outputs": [],
   "source": [
    "# 최대값\n",
    "def f_max(df, component, char): # df : 데이터프레임, component : 사용항목, char : 파생변수명 \n",
    "  \n",
    "    c_list = [component + str(i+10) for i in range(0,3)] # x_list : 연산에 사용할 항목들 리스트로 저장( 변수명_10~변수명_12 )\n",
    "    df[char] = df[c_list].max(axis=1).round(1) # 소수점 첫째자리 반올림"
   ]
  },
  {
   "cell_type": "code",
   "execution_count": 187,
   "metadata": {},
   "outputs": [],
   "source": [
    "# 표준편차\n",
    "def f_std(df, component, char): # df : 데이터프레임, component : 사용항목, char : 파생변수명 \n",
    "  \n",
    "    c_list = [component + str(i+10) for i in range(0,3)] # x_list : 연산에 사용할 항목들 리스트로 저장( 변수명_10~변수명_12 )\n",
    "    df[char] = df[c_list].std(axis=1).round(1) # 소수점 첫째자리 반올림"
   ]
  },
  {
   "cell_type": "code",
   "execution_count": 188,
   "metadata": {},
   "outputs": [
    {
     "data": {
      "text/html": [
       "<div>\n",
       "<style scoped>\n",
       "    .dataframe tbody tr th:only-of-type {\n",
       "        vertical-align: middle;\n",
       "    }\n",
       "\n",
       "    .dataframe tbody tr th {\n",
       "        vertical-align: top;\n",
       "    }\n",
       "\n",
       "    .dataframe thead th {\n",
       "        text-align: right;\n",
       "    }\n",
       "</style>\n",
       "<table border=\"1\" class=\"dataframe\">\n",
       "  <thead>\n",
       "    <tr style=\"text-align: right;\">\n",
       "      <th></th>\n",
       "      <th>a_10</th>\n",
       "      <th>a_11</th>\n",
       "      <th>a_12</th>\n",
       "      <th>char001</th>\n",
       "      <th>char002</th>\n",
       "      <th>char003</th>\n",
       "      <th>char004</th>\n",
       "      <th>char005</th>\n",
       "    </tr>\n",
       "  </thead>\n",
       "  <tbody>\n",
       "    <tr>\n",
       "      <th>0</th>\n",
       "      <td>0</td>\n",
       "      <td>0</td>\n",
       "      <td>0</td>\n",
       "      <td>0</td>\n",
       "      <td>0.0</td>\n",
       "      <td>0</td>\n",
       "      <td>0</td>\n",
       "      <td>0.0</td>\n",
       "    </tr>\n",
       "    <tr>\n",
       "      <th>1</th>\n",
       "      <td>1</td>\n",
       "      <td>2</td>\n",
       "      <td>3</td>\n",
       "      <td>6</td>\n",
       "      <td>2.0</td>\n",
       "      <td>1</td>\n",
       "      <td>3</td>\n",
       "      <td>1.0</td>\n",
       "    </tr>\n",
       "    <tr>\n",
       "      <th>2</th>\n",
       "      <td>3</td>\n",
       "      <td>2</td>\n",
       "      <td>4</td>\n",
       "      <td>9</td>\n",
       "      <td>3.0</td>\n",
       "      <td>2</td>\n",
       "      <td>4</td>\n",
       "      <td>1.0</td>\n",
       "    </tr>\n",
       "    <tr>\n",
       "      <th>3</th>\n",
       "      <td>5</td>\n",
       "      <td>4</td>\n",
       "      <td>2</td>\n",
       "      <td>11</td>\n",
       "      <td>3.7</td>\n",
       "      <td>2</td>\n",
       "      <td>5</td>\n",
       "      <td>1.5</td>\n",
       "    </tr>\n",
       "  </tbody>\n",
       "</table>\n",
       "</div>"
      ],
      "text/plain": [
       "   a_10  a_11  a_12  char001  char002  char003  char004  char005\n",
       "0     0     0     0        0      0.0        0        0      0.0\n",
       "1     1     2     3        6      2.0        1        3      1.0\n",
       "2     3     2     4        9      3.0        2        4      1.0\n",
       "3     5     4     2       11      3.7        2        5      1.5"
      ]
     },
     "execution_count": 188,
     "metadata": {},
     "output_type": "execute_result"
    }
   ],
   "source": [
    "f_sum(woori,\"a_\",\"char001\")\n",
    "f_avg(woori,\"a_\",\"char002\")\n",
    "f_min(woori,\"a_\",\"char003\")\n",
    "f_max(woori,\"a_\",\"char004\")\n",
    "f_std(woori,\"a_\",\"char005\")\n",
    "woori"
   ]
  },
  {
   "cell_type": "code",
   "execution_count": 189,
   "metadata": {},
   "outputs": [],
   "source": [
    "# 연속증가개월수\n",
    "def consec_inc_month(df, component, char): # df : 데이터프레임, component : 사용항목, char : 파생변수명 \n",
    "\n",
    "    df[char] = 0     \n",
    "    c_list = [component + str(i+10) for i in range(0,3)] # x_list : 연산에 사용할 항목들 리스트로 저장( 변수명_10~변수명_12 )\n",
    "    df.loc[df[c_list].sum(axis=1) == 0, char] = -9999999 # x_10 ~ x_12 합계가 0일경우 SV(-9999999)\n",
    "\n",
    "    for i in range(0,2): # for loop 2번 실행\n",
    "        df.loc[df[c_list[i]] < df[c_list[i+1]], char] += 1 # 연속증가개월수 체크"
   ]
  },
  {
   "cell_type": "code",
   "execution_count": 192,
   "metadata": {
    "scrolled": true
   },
   "outputs": [
    {
     "data": {
      "text/html": [
       "<div>\n",
       "<style scoped>\n",
       "    .dataframe tbody tr th:only-of-type {\n",
       "        vertical-align: middle;\n",
       "    }\n",
       "\n",
       "    .dataframe tbody tr th {\n",
       "        vertical-align: top;\n",
       "    }\n",
       "\n",
       "    .dataframe thead th {\n",
       "        text-align: right;\n",
       "    }\n",
       "</style>\n",
       "<table border=\"1\" class=\"dataframe\">\n",
       "  <thead>\n",
       "    <tr style=\"text-align: right;\">\n",
       "      <th></th>\n",
       "      <th>a_10</th>\n",
       "      <th>a_11</th>\n",
       "      <th>a_12</th>\n",
       "      <th>char001</th>\n",
       "      <th>char002</th>\n",
       "      <th>char003</th>\n",
       "      <th>char004</th>\n",
       "      <th>char005</th>\n",
       "      <th>char006</th>\n",
       "    </tr>\n",
       "  </thead>\n",
       "  <tbody>\n",
       "    <tr>\n",
       "      <th>0</th>\n",
       "      <td>0</td>\n",
       "      <td>0</td>\n",
       "      <td>0</td>\n",
       "      <td>0</td>\n",
       "      <td>0.0</td>\n",
       "      <td>0</td>\n",
       "      <td>0</td>\n",
       "      <td>0.0</td>\n",
       "      <td>-9999999</td>\n",
       "    </tr>\n",
       "    <tr>\n",
       "      <th>1</th>\n",
       "      <td>1</td>\n",
       "      <td>2</td>\n",
       "      <td>3</td>\n",
       "      <td>6</td>\n",
       "      <td>2.0</td>\n",
       "      <td>1</td>\n",
       "      <td>3</td>\n",
       "      <td>1.0</td>\n",
       "      <td>2</td>\n",
       "    </tr>\n",
       "    <tr>\n",
       "      <th>2</th>\n",
       "      <td>3</td>\n",
       "      <td>2</td>\n",
       "      <td>4</td>\n",
       "      <td>9</td>\n",
       "      <td>3.0</td>\n",
       "      <td>2</td>\n",
       "      <td>4</td>\n",
       "      <td>1.0</td>\n",
       "      <td>1</td>\n",
       "    </tr>\n",
       "    <tr>\n",
       "      <th>3</th>\n",
       "      <td>5</td>\n",
       "      <td>4</td>\n",
       "      <td>2</td>\n",
       "      <td>11</td>\n",
       "      <td>3.7</td>\n",
       "      <td>2</td>\n",
       "      <td>5</td>\n",
       "      <td>1.5</td>\n",
       "      <td>0</td>\n",
       "    </tr>\n",
       "  </tbody>\n",
       "</table>\n",
       "</div>"
      ],
      "text/plain": [
       "   a_10  a_11  a_12  char001  char002  char003  char004  char005  char006\n",
       "0     0     0     0        0      0.0        0        0      0.0 -9999999\n",
       "1     1     2     3        6      2.0        1        3      1.0        2\n",
       "2     3     2     4        9      3.0        2        4      1.0        1\n",
       "3     5     4     2       11      3.7        2        5      1.5        0"
      ]
     },
     "execution_count": 192,
     "metadata": {},
     "output_type": "execute_result"
    }
   ],
   "source": [
    "consec_inc_month(woori,\"a_\", \"char006\") \n",
    "woori"
   ]
  },
  {
   "cell_type": "code",
   "execution_count": 209,
   "metadata": {},
   "outputs": [],
   "source": [
    "# 비율 \n",
    "def divide(component1, component2): # component1 : 분자, component2 : 분모\n",
    "    \n",
    "        if component2 == 0:\n",
    "            return -9999999\n",
    "        else:\n",
    "            return round(component1/component2*100)\n"
   ]
  },
  {
   "cell_type": "code",
   "execution_count": 211,
   "metadata": {},
   "outputs": [
    {
     "data": {
      "text/html": [
       "<div>\n",
       "<style scoped>\n",
       "    .dataframe tbody tr th:only-of-type {\n",
       "        vertical-align: middle;\n",
       "    }\n",
       "\n",
       "    .dataframe tbody tr th {\n",
       "        vertical-align: top;\n",
       "    }\n",
       "\n",
       "    .dataframe thead th {\n",
       "        text-align: right;\n",
       "    }\n",
       "</style>\n",
       "<table border=\"1\" class=\"dataframe\">\n",
       "  <thead>\n",
       "    <tr style=\"text-align: right;\">\n",
       "      <th></th>\n",
       "      <th>a_10</th>\n",
       "      <th>a_11</th>\n",
       "      <th>a_12</th>\n",
       "      <th>char001</th>\n",
       "      <th>char002</th>\n",
       "      <th>char003</th>\n",
       "      <th>char004</th>\n",
       "      <th>char005</th>\n",
       "      <th>char006</th>\n",
       "      <th>char007</th>\n",
       "    </tr>\n",
       "  </thead>\n",
       "  <tbody>\n",
       "    <tr>\n",
       "      <th>0</th>\n",
       "      <td>0</td>\n",
       "      <td>0</td>\n",
       "      <td>0</td>\n",
       "      <td>0</td>\n",
       "      <td>0.0</td>\n",
       "      <td>0</td>\n",
       "      <td>0</td>\n",
       "      <td>0.0</td>\n",
       "      <td>-9999999</td>\n",
       "      <td>-9999999</td>\n",
       "    </tr>\n",
       "    <tr>\n",
       "      <th>1</th>\n",
       "      <td>1</td>\n",
       "      <td>2</td>\n",
       "      <td>3</td>\n",
       "      <td>6</td>\n",
       "      <td>2.0</td>\n",
       "      <td>1</td>\n",
       "      <td>3</td>\n",
       "      <td>1.0</td>\n",
       "      <td>2</td>\n",
       "      <td>17</td>\n",
       "    </tr>\n",
       "    <tr>\n",
       "      <th>2</th>\n",
       "      <td>3</td>\n",
       "      <td>2</td>\n",
       "      <td>4</td>\n",
       "      <td>9</td>\n",
       "      <td>3.0</td>\n",
       "      <td>2</td>\n",
       "      <td>4</td>\n",
       "      <td>1.0</td>\n",
       "      <td>1</td>\n",
       "      <td>33</td>\n",
       "    </tr>\n",
       "    <tr>\n",
       "      <th>3</th>\n",
       "      <td>5</td>\n",
       "      <td>4</td>\n",
       "      <td>2</td>\n",
       "      <td>11</td>\n",
       "      <td>3.7</td>\n",
       "      <td>2</td>\n",
       "      <td>5</td>\n",
       "      <td>1.5</td>\n",
       "      <td>0</td>\n",
       "      <td>45</td>\n",
       "    </tr>\n",
       "  </tbody>\n",
       "</table>\n",
       "</div>"
      ],
      "text/plain": [
       "   a_10  a_11  a_12  char001  char002  char003  char004  char005  char006  \\\n",
       "0     0     0     0        0      0.0        0        0      0.0 -9999999   \n",
       "1     1     2     3        6      2.0        1        3      1.0        2   \n",
       "2     3     2     4        9      3.0        2        4      1.0        1   \n",
       "3     5     4     2       11      3.7        2        5      1.5        0   \n",
       "\n",
       "   char007  \n",
       "0 -9999999  \n",
       "1       17  \n",
       "2       33  \n",
       "3       45  "
      ]
     },
     "execution_count": 211,
     "metadata": {},
     "output_type": "execute_result"
    }
   ],
   "source": [
    "woori[\"char007\"]=woori.apply(lambda x: divide(x.a_10, x.char001), axis=1)\n",
    "woori"
   ]
  },
  {
   "cell_type": "code",
   "execution_count": null,
   "metadata": {},
   "outputs": [],
   "source": []
  }
 ],
 "metadata": {
  "kernelspec": {
   "display_name": "Python 3",
   "language": "python",
   "name": "python3"
  },
  "language_info": {
   "codemirror_mode": {
    "name": "ipython",
    "version": 3
   },
   "file_extension": ".py",
   "mimetype": "text/x-python",
   "name": "python",
   "nbconvert_exporter": "python",
   "pygments_lexer": "ipython3",
   "version": "3.8.5"
  }
 },
 "nbformat": 4,
 "nbformat_minor": 4
}
